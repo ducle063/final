{
 "cells": [
  {
   "cell_type": "code",
   "execution_count": null,
   "metadata": {},
   "outputs": [],
   "source": [
    "from facebook_scraper import get_posts\n",
    "import pandas as pd\n",
    "import numpy as np\n",
    "import time"
   ]
  },
  {
   "cell_type": "code",
   "execution_count": null,
   "metadata": {},
   "outputs": [],
   "source": [
    "FANPAGE_LINK =\"EatingSleepingWithOP\"\n",
    "FOLDER_PATH = \"Data\"\n",
    "COOKIE_PATH = \"cookies.txt\"\n",
    "PAGES_NUMBER = 500 # Number of pages to crawl\n",
    "random_time = np.random.uniform(5,30)"
   ]
  },
  {
   "cell_type": "code",
   "execution_count": null,
   "metadata": {},
   "outputs": [],
   "source": [
    "post_list = []\n",
    "count = 0\n",
    "headers = {\n",
    "    'User-Agent': 'Mozilla/5.0 (Windows NT 10.0; Win64; x64) AppleWebKit/537.36 (KHTML, like Gecko) Chrome/91.0.4472.124 Safari/537.36'\n",
    "}\n",
    "\n",
    "# Lưu trữ các tên cột bạn muốn giữ lại\n",
    "desired_columns = [\"comments\", \"reactions\", \"timestamp\", \"post_id\", \"post_text\", \"user_id\", \"time\", \"shares\", \"post_url\",\n",
    "                              \"image\", \"images_description\", \"username\", \"user_url\", \"is_live\"\n",
    "                              , \"reaction_count\", \"page_id\"]\n",
    "\n",
    "for post in get_posts(FANPAGE_LINK,\n",
    "                    options={\"comments\": True, \"reactions\": True, \"timestamp\": True, \"post_id\": True, \"post_text\": True, \"user_id\": True, \"time\": True, \"shares\": True, \"post_url\": True,\n",
    "                              \"image\": True, \"images_description\": True, \"username\": True, \"user_url\": True, \"is_live\": True,\n",
    "                              \"reaction_count\": True, \"page_id\": True, \"allow extra request\" : False, \"headers\": headers},extra_info = False,\n",
    "                    pages=PAGES_NUMBER, cookies=COOKIE_PATH):\n",
    "    # Lọc các cột dựa trên tên cột mong muốn\n",
    "    filtered_post = {key: value for key, value in post.items() if key in desired_columns}\n",
    "    post_list.append(filtered_post)\n",
    "    print(count, \"          \" , filtered_post)\n",
    "    time.sleep(random_time)\n",
    "    count += 1\n",
    "    if count == 300:\n",
    "        break\n"
   ]
  },
  {
   "cell_type": "code",
   "execution_count": null,
   "metadata": {},
   "outputs": [],
   "source": [
    "# Initialize dataframe to scrape Facebook post\n",
    "post_df = pd.DataFrame(columns=post_list[0].keys(), index=range(len(post_list)), data=post_list)\n",
    "\n",
    "# To df\n",
    "path=\"3test\" + FANPAGE_LINK + \".csv\"\n",
    "post_df.to_csv(path, index=False)\n",
    "print(path)"
   ]
  },
  {
   "cell_type": "code",
   "execution_count": null,
   "metadata": {},
   "outputs": [],
   "source": [
    "post_df"
   ]
  }
 ],
 "metadata": {
  "kernelspec": {
   "display_name": "Python 3",
   "language": "python",
   "name": "python3"
  },
  "language_info": {
   "codemirror_mode": {
    "name": "ipython",
    "version": 3
   },
   "file_extension": ".py",
   "mimetype": "text/x-python",
   "name": "python",
   "nbconvert_exporter": "python",
   "pygments_lexer": "ipython3",
   "version": "3.11.6"
  }
 },
 "nbformat": 4,
 "nbformat_minor": 2
}
